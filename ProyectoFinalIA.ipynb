{
  "nbformat": 4,
  "nbformat_minor": 0,
  "metadata": {
    "colab": {
      "provenance": []
    },
    "kernelspec": {
      "name": "python3",
      "display_name": "Python 3"
    },
    "language_info": {
      "name": "python"
    }
  },
  "cells": [
    {
      "cell_type": "markdown",
      "source": [
        "# Agente Bayesiano para Nine Mens Morri's\n",
        "\n",
        "## Creación del vocabulario\n",
        "Primero vamos a seccionar en 4 la cadena de 24 caracteres, con el fin de que al momento de hacer el conteo junto con la base de datos podamos realizar el conteo."
      ],
      "metadata": {
        "id": "K2G3QeI5IOr0"
      }
    },
    {
      "cell_type": "code",
      "source": [
        "# Creación del vocabulario\n",
        "from itertools import product\n",
        "\n",
        "estadoCasilla = [\"O\", \"M\", \"E\"]\n",
        "\n",
        "\n",
        "palabras = map(''.join, product(estadoCasilla, repeat=6))\n",
        "\n",
        "# Este tal cual son las palabras pero para poder hacer el conteo de forma más sencilla\n",
        "# decidi dejar el vocabulario como un diccionario que apunta a una lista. Esta lista\n",
        "# representa las 24 posiciones de las casillas.\n",
        "vocabulario = {palabra: [float(0)] * 24 for palabra in palabras}"
      ],
      "metadata": {
        "id": "LB38jBaoIG1O"
      },
      "execution_count": 4,
      "outputs": []
    },
    {
      "cell_type": "markdown",
      "source": [
        "<a target=\"_blank\" href=\"https://colab.research.google.com/github/Albert236/Proyecto-Final-IA/blob/main/ProyectoFinal.ipynb\">\n",
        "  <img src=\"https://colab.research.google.com/assets/colab-badge.svg\" alt=\"Open In Colab\"/>\n",
        "  "
      ],
      "metadata": {
        "id": "jVU0BbgV_Tqc"
      }
    },
    {
      "cell_type": "markdown",
      "source": [
        "## Conteo\n",
        "Una vez realizado el conteo debemos de realizar el conteo con la base de datos, es por eso que se puede clonar el repositorio de github desde aquí."
      ],
      "metadata": {
        "id": "lbJN7jl5Ldqz"
      }
    },
    {
      "cell_type": "code",
      "source": [
        "!git clone https://github.com/Albert236/Proyecto-Final-IA.git"
      ],
      "metadata": {
        "colab": {
          "base_uri": "https://localhost:8080/"
        },
        "id": "Wt9omBGNK6-l",
        "outputId": "b7e14824-0b05-4d73-e6de-58c2ed63858f"
      },
      "execution_count": 1,
      "outputs": [
        {
          "output_type": "stream",
          "name": "stdout",
          "text": [
            "Cloning into 'Proyecto-Final-IA'...\n",
            "remote: Enumerating objects: 17, done.\u001b[K\n",
            "remote: Counting objects:   5% (1/17)\u001b[K\rremote: Counting objects:  11% (2/17)\u001b[K\rremote: Counting objects:  17% (3/17)\u001b[K\rremote: Counting objects:  23% (4/17)\u001b[K\rremote: Counting objects:  29% (5/17)\u001b[K\rremote: Counting objects:  35% (6/17)\u001b[K\rremote: Counting objects:  41% (7/17)\u001b[K\rremote: Counting objects:  47% (8/17)\u001b[K\rremote: Counting objects:  52% (9/17)\u001b[K\rremote: Counting objects:  58% (10/17)\u001b[K\rremote: Counting objects:  64% (11/17)\u001b[K\rremote: Counting objects:  70% (12/17)\u001b[K\rremote: Counting objects:  76% (13/17)\u001b[K\rremote: Counting objects:  82% (14/17)\u001b[K\rremote: Counting objects:  88% (15/17)\u001b[K\rremote: Counting objects:  94% (16/17)\u001b[K\rremote: Counting objects: 100% (17/17)\u001b[K\rremote: Counting objects: 100% (17/17), done.\u001b[K\n",
            "remote: Compressing objects: 100% (16/16), done.\u001b[K\n",
            "remote: Total 17 (delta 4), reused 0 (delta 0), pack-reused 0\u001b[K\n",
            "Receiving objects: 100% (17/17), 221.30 KiB | 2.33 MiB/s, done.\n",
            "Resolving deltas: 100% (4/4), done.\n"
          ]
        }
      ]
    },
    {
      "cell_type": "code",
      "source": [
        "# Nos movemos a la carpeta\n",
        "import os\n",
        "os.chdir(\"Proyecto-Final-IA\")"
      ],
      "metadata": {
        "id": "7nDxpfxpxyWH"
      },
      "execution_count": null,
      "outputs": []
    },
    {
      "cell_type": "code",
      "source": [
        "# Esto nos va a ayudar a reliazar el conteo\n",
        "CANTIDAD = 15000\n",
        "indiceMovimientos = {\"a7\":0,\"a4\":1,\"a1\":2,\"b6\":3,\"b4\":4,\"b2\":5,\"c5\":6,\"c4\":7,\"c3\":8,\"d7\":9,\"d6\":10,\"d5\":11,\"d3\":12,\"d2\":13, \"d1\":14, \"e5\":15,\"e4\":16,\"e3\":17,\"f6\":18,\"f4\":19,\"f2\":20,\"g7\":21,\"g4\":22,\"g1\":23}"
      ],
      "metadata": {
        "id": "6oo9y8mgNKfZ"
      },
      "execution_count": 6,
      "outputs": []
    },
    {
      "cell_type": "code",
      "source": [
        "import copy\n",
        "\n",
        "\n",
        "# ti representa la palabra dentro del vocabulario\n",
        "t1 = copy.deepcopy(vocabulario)\n",
        "t2 = copy.deepcopy(vocabulario)\n",
        "t3 = copy.deepcopy(vocabulario)\n",
        "t4 = copy.deepcopy(vocabulario)\n",
        "\n",
        "with open(\"fase1DB.txt\") as f:\n",
        "    lines = f.readlines()\n",
        "    contador = 0\n",
        "    for line in lines:\n",
        "      tablero = line.split(\"-\")[0]\n",
        "      movimiento = line.split(\"-\")[1]\n",
        "\n",
        "      for palabra in vocabulario.keys():\n",
        "          if palabra ==  tablero[0:6]:\n",
        "              t1[palabra][indiceMovimientos[movimiento[:2]]] += 1.0\n",
        "          elif palabra ==  tablero[6:12]:\n",
        "              t2[palabra][indiceMovimientos[movimiento[:2]]] += 1.0\n",
        "          elif palabra ==  tablero[12:18]:\n",
        "              t3[palabra][indiceMovimientos[movimiento[:2]]] += 1.0\n",
        "          elif palabra ==  tablero[18:24]:\n",
        "              t4[palabra][indiceMovimientos[movimiento[:2]]] += 1.0\n",
        "\n",
        "      contador += 1\n",
        "\n",
        "      if contador == CANTIDAD:\n",
        "        break\n",
        "\n",
        "# Se realiza la siguiente descomposición parametrica\n",
        "for key in t1.keys():\n",
        "  for i in range(24):\n",
        "    t1[key][i] = (1 + t1[key][i]) / (CANTIDAD + 729)\n",
        "for key in t2.keys():\n",
        "  for i in range(24):\n",
        "    t2[key][i] = (1 + t2[key][i]) / (CANTIDAD + 729)\n",
        "for key in t3.keys():\n",
        "  for i in range(24):\n",
        "    t3[key][i] = (1 + t3[key][i]) / (CANTIDAD + 729)\n",
        "for key in t4.keys():\n",
        "  for i in range(24):\n",
        "    t4[key][i] = (1 + t4[key][i]) / (CANTIDAD + 729)"
      ],
      "metadata": {
        "id": "JAQWeoZLMH8v"
      },
      "execution_count": 10,
      "outputs": []
    },
    {
      "cell_type": "markdown",
      "source": [
        "## Jugada por estado del tablero\n",
        "Ahora podemos que dado un estado del juego, cuál sería la mejor jugada?"
      ],
      "metadata": {
        "id": "mZUP2k-BdfHm"
      }
    },
    {
      "cell_type": "code",
      "source": [
        "\"\"\"\n",
        "Función que dado un tablero infiera la mejor jugada, sin importar si esta es legal o no\n",
        "\"\"\"\n",
        "def mejorJugada(tablero):\n",
        "  ti = [tablero[0:6], tablero[6:12], tablero[12:18], tablero[18:24]]\n",
        "  distribJi = {\"a7\":1.0,\"a4\":1.0,\"a1\":1.0,\"b6\":1.0,\"b4\":1.0,\"b2\":1.0,\"c5\":1.0,\"c4\":1.0,\"c3\":1.0,\"d7\":1.0,\"d6\":1.0,\"d5\":1.0,\"d3\":1.0,\"d2\":1.0, \"d1\":1.0, \"e5\":1.0,\"e4\":1.0,\"e3\":1.0,\"f6\":1.0,\"f4\":1.0,\"f2\":1.0,\"g7\":1.0,\"g4\":1.0,\"g1\":1.0}\n",
        "\n",
        "  for key in distribJi.keys():\n",
        "    distribJi[key] = t1[ti[0]][indiceMovimientos[key]]*t2[ti[1]][indiceMovimientos[key]]*t3[ti[2]][indiceMovimientos[key]]*t4[ti[3]][indiceMovimientos[key]]\n",
        "\n",
        "  return max(distribJi, key=distribJi.get)"
      ],
      "metadata": {
        "id": "2sU9v8bMOD-p"
      },
      "execution_count": 11,
      "outputs": []
    },
    {
      "cell_type": "code",
      "source": [
        "mejorJugada(\"OEMOOOOOOOOOOOOOOOOEOMOE7623\")"
      ],
      "metadata": {
        "colab": {
          "base_uri": "https://localhost:8080/",
          "height": 35
        },
        "id": "fxS3xRy_kAid",
        "outputId": "b5c4bc1d-b88a-4229-ddfa-e7297f6780c1"
      },
      "execution_count": 12,
      "outputs": [
        {
          "output_type": "execute_result",
          "data": {
            "text/plain": [
              "'f4'"
            ],
            "application/vnd.google.colaboratory.intrinsic+json": {
              "type": "string"
            }
          },
          "metadata": {},
          "execution_count": 12
        }
      ]
    },
    {
      "cell_type": "code",
      "source": [
        "# vamos a comprobar con los datos de la prueba la cantidad de aciertos que genera\n",
        "with open(\"datosPrueba.txt\", \"r\") as file:\n",
        "  lines = file.readlines()\n",
        "  contador = 0\n",
        "\n",
        "  for line in lines:\n",
        "    tablero = line.split(\"-\")[0]\n",
        "    jugada = line.split(\"-\")[1][:2]\n",
        "\n",
        "    if jugada == mejorJugada(tablero):\n",
        "      contador += 1\n",
        "\n",
        "  print(contador/len(lines))"
      ],
      "metadata": {
        "id": "ArZ8HkRYkGCV",
        "colab": {
          "base_uri": "https://localhost:8080/"
        },
        "outputId": "9673f8ce-8375-4bf6-a821-ff2e1d8f8267"
      },
      "execution_count": 14,
      "outputs": [
        {
          "output_type": "stream",
          "name": "stdout",
          "text": [
            "0.21006178287731686\n"
          ]
        }
      ]
    },
    {
      "cell_type": "markdown",
      "source": [
        "Como se puede apreciar en la que se acierta es bajísima, pero recordemos que esta función sigue incompleta, vamos a ver que pasa cuando se buscan únicamente jugadas legales."
      ],
      "metadata": {
        "id": "viwW1fWQyN2B"
      }
    },
    {
      "cell_type": "code",
      "source": [
        "def mejorJugadaLegal(tablero):\n",
        "  ti = [tablero[0:6], tablero[6:12], tablero[12:18], tablero[18:24]]\n",
        "  distribJi = {\"a7\":1.0,\"a4\":1.0,\"a1\":1.0,\"b6\":1.0,\"b4\":1.0,\"b2\":1.0,\"c5\":1.0,\"c4\":1.0,\"c3\":1.0,\"d7\":1.0,\"d6\":1.0,\"d5\":1.0,\"d3\":1.0,\"d2\":1.0, \"d1\":1.0, \"e5\":1.0,\"e4\":1.0,\"e3\":1.0,\"f6\":1.0,\"f4\":1.0,\"f2\":1.0,\"g7\":1.0,\"g4\":1.0,\"g1\":1.0}\n",
        "\n",
        "  for key in distribJi.keys():\n",
        "    distribJi[key] = t1[ti[0]][indiceMovimientos[key]]*t2[ti[1]][indiceMovimientos[key]]*t3[ti[2]][indiceMovimientos[key]]*t4[ti[3]][indiceMovimientos[key]]\n",
        "\n",
        "  posiblesJugadas = sorted(distribJi, key=distribJi.get, reverse=True)\n",
        "\n",
        "  for intento in posiblesJugadas:\n",
        "    if esLegal(tablero, intento):\n",
        "      return intento\n",
        "\n",
        "  return None\n",
        "\n",
        "def esLegal(tablero, intento):\n",
        "  if tablero[indiceMovimientos[intento]] != \"O\":\n",
        "    return False\n",
        "  else:\n",
        "    return True\n"
      ],
      "metadata": {
        "id": "5SNVua_jzBML"
      },
      "execution_count": 45,
      "outputs": []
    },
    {
      "cell_type": "code",
      "source": [
        "# Veamos si la cantidad de movimientos acertados aumenta\n",
        "with open(\"datosPrueba.txt\", \"r\") as file:\n",
        "  lines = file.readlines()\n",
        "  contador = 0\n",
        "\n",
        "  for line in lines:\n",
        "    tablero = line.split(\"-\")[0]\n",
        "    jugada = line.split(\"-\")[1][:2]\n",
        "\n",
        "    if jugada == mejorJugadaLegal(tablero):\n",
        "      contador += 1\n",
        "\n",
        "  print(contador/len(lines))\n",
        "# al parecer no lo hace"
      ],
      "metadata": {
        "colab": {
          "base_uri": "https://localhost:8080/"
        },
        "id": "iAOcl6Cg05X8",
        "outputId": "0e5f41b7-9355-479f-8baa-56fdd00b2311"
      },
      "execution_count": 49,
      "outputs": [
        {
          "output_type": "stream",
          "name": "stdout",
          "text": [
            "3399\n",
            "0.17917034421888792\n"
          ]
        }
      ]
    },
    {
      "cell_type": "markdown",
      "source": [],
      "metadata": {
        "id": "M5DrbJVt9jbM"
      }
    }
  ]
}